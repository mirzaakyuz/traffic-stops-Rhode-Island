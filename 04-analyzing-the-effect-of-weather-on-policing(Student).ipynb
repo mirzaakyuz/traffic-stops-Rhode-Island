{
 "cells": [
  {
   "cell_type": "markdown",
   "metadata": {},
   "source": [
    "___\n",
    "\n",
    "<p style=\"text-align: center;\"><img src=\"https://docs.google.com/uc?id=1lY0Uj5R04yMY3-ZppPWxqCr5pvBLYPnV\" class=\"img-fluid\" alt=\"CLRSWY\"></p>\n",
    "\n",
    "___"
   ]
  },
  {
   "cell_type": "markdown",
   "metadata": {},
   "source": [
    "<h1><p style=\"text-align: center;\">Data Analysis with Python <br>Project - 1</p><h1> - Traffic Police Stops <img src=\"https://docs.google.com/uc?id=17CPCwi3_VvzcS87TOsh4_U8eExOhL6Ki\" class=\"img-fluid\" alt=\"CLRSWY\" width=\"200\" height=\"100\"> "
   ]
  },
  {
   "cell_type": "markdown",
   "metadata": {},
   "source": [
    "In this chapter, you will use a **second dataset** to explore the impact of **weather conditions** on police behavior during traffic stops. You will practice **merging** and **reshaping** datasets, assessing whether a data source is trustworthy, working with **categorical** data, and other advanced skills."
   ]
  },
  {
   "cell_type": "markdown",
   "metadata": {},
   "source": [
    "## Plotting the temperature"
   ]
  },
  {
   "cell_type": "markdown",
   "metadata": {},
   "source": [
    "In this exercise, you'll examine the ``temperature`` columns from the ``weather`` dataset to assess whether the data seems trustworthy. First you'll print the summary statistics, and then you'll visualize the data using a **box plot**.\n",
    "\n",
    "When deciding whether the values seem reasonable, keep in mind that the temperature is measured in degrees **Fahrenheit**, not Celsius!"
   ]
  },
  {
   "cell_type": "markdown",
   "metadata": {},
   "source": [
    "**INSTRUCTIONS**\n",
    "\n",
    "*   Read ``weather.csv`` into a ``DataFrame`` named ``weather``.\n",
    "*   Select the temperature columns (``TMIN``, ``TAVG``, ``TMAX``) and print their ``summary statistics`` using the ``.describe()`` method.\n",
    "*   Create a **box plot** to visualize the temperature columns.\n",
    "*   Display the plot."
   ]
  },
  {
   "cell_type": "code",
   "execution_count": 1,
   "metadata": {},
   "outputs": [],
   "source": [
    "import pandas as pd\n",
    "import matplotlib.pyplot as plt\n",
    "import numpy as np"
   ]
  },
  {
   "cell_type": "code",
   "execution_count": 2,
   "metadata": {},
   "outputs": [
    {
     "data": {
      "text/html": [
       "<div>\n",
       "<style scoped>\n",
       "    .dataframe tbody tr th:only-of-type {\n",
       "        vertical-align: middle;\n",
       "    }\n",
       "\n",
       "    .dataframe tbody tr th {\n",
       "        vertical-align: top;\n",
       "    }\n",
       "\n",
       "    .dataframe thead th {\n",
       "        text-align: right;\n",
       "    }\n",
       "</style>\n",
       "<table border=\"1\" class=\"dataframe\">\n",
       "  <thead>\n",
       "    <tr style=\"text-align: right;\">\n",
       "      <th></th>\n",
       "      <th>DATE</th>\n",
       "      <th>AWND</th>\n",
       "      <th>TAVG</th>\n",
       "      <th>TMAX</th>\n",
       "      <th>TMIN</th>\n",
       "      <th>WT01</th>\n",
       "      <th>WT02</th>\n",
       "      <th>WT03</th>\n",
       "      <th>WT04</th>\n",
       "      <th>WT05</th>\n",
       "      <th>...</th>\n",
       "      <th>WT11</th>\n",
       "      <th>WT13</th>\n",
       "      <th>WT14</th>\n",
       "      <th>WT15</th>\n",
       "      <th>WT16</th>\n",
       "      <th>WT17</th>\n",
       "      <th>WT18</th>\n",
       "      <th>WT19</th>\n",
       "      <th>WT21</th>\n",
       "      <th>WT22</th>\n",
       "    </tr>\n",
       "    <tr>\n",
       "      <th>STATION</th>\n",
       "      <th></th>\n",
       "      <th></th>\n",
       "      <th></th>\n",
       "      <th></th>\n",
       "      <th></th>\n",
       "      <th></th>\n",
       "      <th></th>\n",
       "      <th></th>\n",
       "      <th></th>\n",
       "      <th></th>\n",
       "      <th></th>\n",
       "      <th></th>\n",
       "      <th></th>\n",
       "      <th></th>\n",
       "      <th></th>\n",
       "      <th></th>\n",
       "      <th></th>\n",
       "      <th></th>\n",
       "      <th></th>\n",
       "      <th></th>\n",
       "      <th></th>\n",
       "    </tr>\n",
       "  </thead>\n",
       "  <tbody>\n",
       "    <tr>\n",
       "      <th>USC00379423</th>\n",
       "      <td>2005-01-01</td>\n",
       "      <td>NaN</td>\n",
       "      <td>NaN</td>\n",
       "      <td>47.0</td>\n",
       "      <td>28.0</td>\n",
       "      <td>NaN</td>\n",
       "      <td>NaN</td>\n",
       "      <td>NaN</td>\n",
       "      <td>NaN</td>\n",
       "      <td>NaN</td>\n",
       "      <td>...</td>\n",
       "      <td>NaN</td>\n",
       "      <td>NaN</td>\n",
       "      <td>NaN</td>\n",
       "      <td>NaN</td>\n",
       "      <td>NaN</td>\n",
       "      <td>NaN</td>\n",
       "      <td>NaN</td>\n",
       "      <td>NaN</td>\n",
       "      <td>NaN</td>\n",
       "      <td>NaN</td>\n",
       "    </tr>\n",
       "    <tr>\n",
       "      <th>USC00379423</th>\n",
       "      <td>2005-01-02</td>\n",
       "      <td>NaN</td>\n",
       "      <td>NaN</td>\n",
       "      <td>52.0</td>\n",
       "      <td>24.0</td>\n",
       "      <td>NaN</td>\n",
       "      <td>NaN</td>\n",
       "      <td>NaN</td>\n",
       "      <td>NaN</td>\n",
       "      <td>NaN</td>\n",
       "      <td>...</td>\n",
       "      <td>NaN</td>\n",
       "      <td>NaN</td>\n",
       "      <td>NaN</td>\n",
       "      <td>NaN</td>\n",
       "      <td>NaN</td>\n",
       "      <td>NaN</td>\n",
       "      <td>NaN</td>\n",
       "      <td>NaN</td>\n",
       "      <td>NaN</td>\n",
       "      <td>NaN</td>\n",
       "    </tr>\n",
       "    <tr>\n",
       "      <th>USC00379423</th>\n",
       "      <td>2005-01-03</td>\n",
       "      <td>NaN</td>\n",
       "      <td>NaN</td>\n",
       "      <td>48.0</td>\n",
       "      <td>27.0</td>\n",
       "      <td>NaN</td>\n",
       "      <td>NaN</td>\n",
       "      <td>NaN</td>\n",
       "      <td>NaN</td>\n",
       "      <td>NaN</td>\n",
       "      <td>...</td>\n",
       "      <td>NaN</td>\n",
       "      <td>NaN</td>\n",
       "      <td>NaN</td>\n",
       "      <td>NaN</td>\n",
       "      <td>NaN</td>\n",
       "      <td>NaN</td>\n",
       "      <td>NaN</td>\n",
       "      <td>NaN</td>\n",
       "      <td>NaN</td>\n",
       "      <td>NaN</td>\n",
       "    </tr>\n",
       "    <tr>\n",
       "      <th>USC00379423</th>\n",
       "      <td>2005-01-04</td>\n",
       "      <td>NaN</td>\n",
       "      <td>NaN</td>\n",
       "      <td>54.0</td>\n",
       "      <td>40.0</td>\n",
       "      <td>NaN</td>\n",
       "      <td>NaN</td>\n",
       "      <td>NaN</td>\n",
       "      <td>NaN</td>\n",
       "      <td>NaN</td>\n",
       "      <td>...</td>\n",
       "      <td>NaN</td>\n",
       "      <td>NaN</td>\n",
       "      <td>NaN</td>\n",
       "      <td>NaN</td>\n",
       "      <td>NaN</td>\n",
       "      <td>NaN</td>\n",
       "      <td>NaN</td>\n",
       "      <td>NaN</td>\n",
       "      <td>NaN</td>\n",
       "      <td>NaN</td>\n",
       "    </tr>\n",
       "    <tr>\n",
       "      <th>USC00379423</th>\n",
       "      <td>2005-01-05</td>\n",
       "      <td>NaN</td>\n",
       "      <td>NaN</td>\n",
       "      <td>44.0</td>\n",
       "      <td>31.0</td>\n",
       "      <td>NaN</td>\n",
       "      <td>NaN</td>\n",
       "      <td>NaN</td>\n",
       "      <td>NaN</td>\n",
       "      <td>NaN</td>\n",
       "      <td>...</td>\n",
       "      <td>NaN</td>\n",
       "      <td>NaN</td>\n",
       "      <td>NaN</td>\n",
       "      <td>NaN</td>\n",
       "      <td>NaN</td>\n",
       "      <td>NaN</td>\n",
       "      <td>NaN</td>\n",
       "      <td>NaN</td>\n",
       "      <td>NaN</td>\n",
       "      <td>NaN</td>\n",
       "    </tr>\n",
       "  </tbody>\n",
       "</table>\n",
       "<p>5 rows × 25 columns</p>\n",
       "</div>"
      ],
      "text/plain": [
       "                   DATE  AWND  TAVG  TMAX  TMIN  WT01  WT02  WT03  WT04  WT05  \\\n",
       "STATION                                                                         \n",
       "USC00379423  2005-01-01   NaN   NaN  47.0  28.0   NaN   NaN   NaN   NaN   NaN   \n",
       "USC00379423  2005-01-02   NaN   NaN  52.0  24.0   NaN   NaN   NaN   NaN   NaN   \n",
       "USC00379423  2005-01-03   NaN   NaN  48.0  27.0   NaN   NaN   NaN   NaN   NaN   \n",
       "USC00379423  2005-01-04   NaN   NaN  54.0  40.0   NaN   NaN   NaN   NaN   NaN   \n",
       "USC00379423  2005-01-05   NaN   NaN  44.0  31.0   NaN   NaN   NaN   NaN   NaN   \n",
       "\n",
       "             ...  WT11  WT13  WT14  WT15  WT16  WT17  WT18  WT19  WT21  WT22  \n",
       "STATION      ...                                                              \n",
       "USC00379423  ...   NaN   NaN   NaN   NaN   NaN   NaN   NaN   NaN   NaN   NaN  \n",
       "USC00379423  ...   NaN   NaN   NaN   NaN   NaN   NaN   NaN   NaN   NaN   NaN  \n",
       "USC00379423  ...   NaN   NaN   NaN   NaN   NaN   NaN   NaN   NaN   NaN   NaN  \n",
       "USC00379423  ...   NaN   NaN   NaN   NaN   NaN   NaN   NaN   NaN   NaN   NaN  \n",
       "USC00379423  ...   NaN   NaN   NaN   NaN   NaN   NaN   NaN   NaN   NaN   NaN  \n",
       "\n",
       "[5 rows x 25 columns]"
      ]
     },
     "execution_count": 2,
     "metadata": {},
     "output_type": "execute_result"
    }
   ],
   "source": [
    "\n",
    "df = pd.read_csv(\"weather.csv\", index_col=0)\n",
    "df.head()"
   ]
  },
  {
   "cell_type": "code",
   "execution_count": 3,
   "metadata": {},
   "outputs": [
    {
     "data": {
      "text/html": [
       "<div>\n",
       "<style scoped>\n",
       "    .dataframe tbody tr th:only-of-type {\n",
       "        vertical-align: middle;\n",
       "    }\n",
       "\n",
       "    .dataframe tbody tr th {\n",
       "        vertical-align: top;\n",
       "    }\n",
       "\n",
       "    .dataframe thead th {\n",
       "        text-align: right;\n",
       "    }\n",
       "</style>\n",
       "<table border=\"1\" class=\"dataframe\">\n",
       "  <thead>\n",
       "    <tr style=\"text-align: right;\">\n",
       "      <th></th>\n",
       "      <th>TMIN</th>\n",
       "      <th>TAVG</th>\n",
       "      <th>TMAX</th>\n",
       "    </tr>\n",
       "  </thead>\n",
       "  <tbody>\n",
       "    <tr>\n",
       "      <th>count</th>\n",
       "      <td>7996.000000</td>\n",
       "      <td>1217.000000</td>\n",
       "      <td>8005.000000</td>\n",
       "    </tr>\n",
       "    <tr>\n",
       "      <th>mean</th>\n",
       "      <td>42.099425</td>\n",
       "      <td>52.493016</td>\n",
       "      <td>61.247096</td>\n",
       "    </tr>\n",
       "    <tr>\n",
       "      <th>std</th>\n",
       "      <td>17.386667</td>\n",
       "      <td>17.829792</td>\n",
       "      <td>18.495043</td>\n",
       "    </tr>\n",
       "    <tr>\n",
       "      <th>min</th>\n",
       "      <td>-10.000000</td>\n",
       "      <td>6.000000</td>\n",
       "      <td>13.000000</td>\n",
       "    </tr>\n",
       "    <tr>\n",
       "      <th>25%</th>\n",
       "      <td>29.000000</td>\n",
       "      <td>39.000000</td>\n",
       "      <td>46.000000</td>\n",
       "    </tr>\n",
       "    <tr>\n",
       "      <th>50%</th>\n",
       "      <td>42.000000</td>\n",
       "      <td>54.000000</td>\n",
       "      <td>62.000000</td>\n",
       "    </tr>\n",
       "    <tr>\n",
       "      <th>75%</th>\n",
       "      <td>57.000000</td>\n",
       "      <td>68.000000</td>\n",
       "      <td>77.000000</td>\n",
       "    </tr>\n",
       "    <tr>\n",
       "      <th>max</th>\n",
       "      <td>77.000000</td>\n",
       "      <td>86.000000</td>\n",
       "      <td>102.000000</td>\n",
       "    </tr>\n",
       "  </tbody>\n",
       "</table>\n",
       "</div>"
      ],
      "text/plain": [
       "              TMIN         TAVG         TMAX\n",
       "count  7996.000000  1217.000000  8005.000000\n",
       "mean     42.099425    52.493016    61.247096\n",
       "std      17.386667    17.829792    18.495043\n",
       "min     -10.000000     6.000000    13.000000\n",
       "25%      29.000000    39.000000    46.000000\n",
       "50%      42.000000    54.000000    62.000000\n",
       "75%      57.000000    68.000000    77.000000\n",
       "max      77.000000    86.000000   102.000000"
      ]
     },
     "execution_count": 3,
     "metadata": {},
     "output_type": "execute_result"
    }
   ],
   "source": [
    "df[[\"TMIN\",\"TAVG\" ,\"TMAX\"]].describe()"
   ]
  },
  {
   "cell_type": "code",
   "execution_count": 4,
   "metadata": {},
   "outputs": [
    {
     "data": {
      "image/png": "[encoded data removed]",
      "text/plain": [
       "<Figure size 432x288 with 1 Axes>"
      ]
     },
     "metadata": {
      "needs_background": "light"
     },
     "output_type": "display_data"
    }
   ],
   "source": [
    " df[[\"TMIN\",\"TAVG\" ,\"TMAX\"]].boxplot();"
   ]
  },
  {
   "cell_type": "markdown",
   "metadata": {},
   "source": [
    "***"
   ]
  },
  {
   "cell_type": "markdown",
   "metadata": {},
   "source": [
    "## Plotting the temperature difference"
   ]
  },
  {
   "cell_type": "markdown",
   "metadata": {},
   "source": [
    "In this exercise, you'll continue to assess ``whether`` the dataset seems trustworthy by plotting the difference between the maximum and minimum temperatures.\n",
    "\n",
    "What do you notice about the resulting **histogram**? Does it match your expectations, or do you see anything unusual?"
   ]
  },
  {
   "cell_type": "markdown",
   "metadata": {},
   "source": [
    "**INSTRUCTIONS**\n",
    "\n",
    "*   Create a new column in the ``weather`` ``DataFrame`` named ``TDIFF`` that represents the difference between the maximum and minimum temperatures.\n",
    "*   Print the summary statistics for ``TDIFF`` using the ``.describe()`` method.\n",
    "*   Create a histogram with ``20 bins`` to visualize ``TDIFF``.\n",
    "*   Display the plot."
   ]
  },
  {
   "cell_type": "code",
   "execution_count": 5,
   "metadata": {},
   "outputs": [
    {
     "data": {
      "text/html": [
       "<div>\n",
       "<style scoped>\n",
       "    .dataframe tbody tr th:only-of-type {\n",
       "        vertical-align: middle;\n",
       "    }\n",
       "\n",
       "    .dataframe tbody tr th {\n",
       "        vertical-align: top;\n",
       "    }\n",
       "\n",
       "    .dataframe thead th {\n",
       "        text-align: right;\n",
       "    }\n",
       "</style>\n",
       "<table border=\"1\" class=\"dataframe\">\n",
       "  <thead>\n",
       "    <tr style=\"text-align: right;\">\n",
       "      <th></th>\n",
       "      <th>TDIFF</th>\n",
       "    </tr>\n",
       "  </thead>\n",
       "  <tbody>\n",
       "    <tr>\n",
       "      <th>count</th>\n",
       "      <td>7994.000000</td>\n",
       "    </tr>\n",
       "    <tr>\n",
       "      <th>mean</th>\n",
       "      <td>19.149237</td>\n",
       "    </tr>\n",
       "    <tr>\n",
       "      <th>std</th>\n",
       "      <td>7.009716</td>\n",
       "    </tr>\n",
       "    <tr>\n",
       "      <th>min</th>\n",
       "      <td>-25.000000</td>\n",
       "    </tr>\n",
       "    <tr>\n",
       "      <th>25%</th>\n",
       "      <td>14.000000</td>\n",
       "    </tr>\n",
       "    <tr>\n",
       "      <th>50%</th>\n",
       "      <td>19.000000</td>\n",
       "    </tr>\n",
       "    <tr>\n",
       "      <th>75%</th>\n",
       "      <td>24.000000</td>\n",
       "    </tr>\n",
       "    <tr>\n",
       "      <th>max</th>\n",
       "      <td>48.000000</td>\n",
       "    </tr>\n",
       "  </tbody>\n",
       "</table>\n",
       "</div>"
      ],
      "text/plain": [
       "             TDIFF\n",
       "count  7994.000000\n",
       "mean     19.149237\n",
       "std       7.009716\n",
       "min     -25.000000\n",
       "25%      14.000000\n",
       "50%      19.000000\n",
       "75%      24.000000\n",
       "max      48.000000"
      ]
     },
     "execution_count": 5,
     "metadata": {},
     "output_type": "execute_result"
    }
   ],
   "source": [
    "df[\"TDIFF\"] = df[\"TMAX\"] - df[\"TMIN\"]\n",
    "\n",
    "df[[\"TMIN\",\"TDIFF\" ,\"TMAX\"]].head()\n",
    "\n",
    "df[[\"TDIFF\"]].describe()"
   ]
  },
  {
   "cell_type": "code",
   "execution_count": 6,
   "metadata": {},
   "outputs": [
    {
     "data": {
      "image/png": "[encoded data removed]",
      "text/plain": [
       "<Figure size 432x288 with 1 Axes>"
      ]
     },
     "metadata": {
      "needs_background": "light"
     },
     "output_type": "display_data"
    }
   ],
   "source": [
    "df[\"TDIFF\"].hist(bins = 20, grid = False);"
   ]
  },
  {
   "cell_type": "markdown",
   "metadata": {},
   "source": [
    "***"
   ]
  },
  {
   "cell_type": "markdown",
   "metadata": {},
   "source": [
    "## Counting bad weather conditions"
   ]
  },
  {
   "cell_type": "markdown",
   "metadata": {},
   "source": [
    "The ``weather`` ``DataFrame`` contains ``20`` columns that start with ``'WT'``, each of which represents a bad weather condition. For example:\n",
    "\n",
    "*   ``WT05`` indicates ``\"Hail\"``\n",
    "*   ``WT11`` indicates ``\"High or damaging winds\"``\n",
    "*   ``WT17`` indicates ``\"Freezing rain\"``\n",
    "\n",
    "For every row in the dataset, each ``WT`` column contains either a ``1`` (meaning the condition was present that day) or ``NaN`` (meaning the condition was not present).\n",
    "\n",
    "In this exercise, you'll quantify ``\"how bad\"`` the weather was each day by counting the number of ``1`` values in each row."
   ]
  },
  {
   "cell_type": "markdown",
   "metadata": {},
   "source": [
    "**INSTRUCTIONS**\n",
    "\n",
    "*   Copy the columns ``WT01`` through ``WT22`` from ``weather`` to a new ``DataFrame`` named ``WT``.\n",
    "*   Calculate the sum of each row in ``WT``, and store the results in a new weather column named ``bad_conditions``.\n",
    "*   Replace any ``missing values`` in ``bad_conditions`` with a ``0``. (This has been done for you.)\n",
    "*   Create a **histogram** to visualize ``bad_conditions``, and then display the plot."
   ]
  },
  {
   "cell_type": "code",
   "execution_count": 7,
   "metadata": {},
   "outputs": [
    {
     "data": {
      "image/png": "[encoded data removed]",
      "text/plain": [
       "<Figure size 432x288 with 1 Axes>"
      ]
     },
     "metadata": {
      "needs_background": "light"
     },
     "output_type": "display_data"
    }
   ],
   "source": [
    "WT = df.loc[:, \"WT01\":\"WT22\"].copy()\n",
    "\n",
    "bad_conditions = WT.sum(axis = 1)\n",
    "\n",
    "bad_conditions.hist(grid = False);"
   ]
  },
  {
   "cell_type": "code",
   "execution_count": 8,
   "metadata": {},
   "outputs": [
    {
     "data": {
      "text/plain": [
       "1.0    1777\n",
       "Name: WT01, dtype: int64"
      ]
     },
     "execution_count": 8,
     "metadata": {},
     "output_type": "execute_result"
    }
   ],
   "source": [
    "df['WT01'].value_counts()"
   ]
  },
  {
   "cell_type": "markdown",
   "metadata": {},
   "source": [
    "***"
   ]
  },
  {
   "cell_type": "markdown",
   "metadata": {},
   "source": [
    "## Rating the weather conditions"
   ]
  },
  {
   "cell_type": "markdown",
   "metadata": {},
   "source": [
    "In the previous exercise, you counted the number of bad weather conditions each day. In this exercise, you'll use the counts to create a *rating system** for the weather.\n",
    "\n",
    "The counts range from ``0`` to ``9``, and should be converted to ratings as follows:\n",
    "\n",
    "*   Convert ``0`` to ``'good'``\n",
    "*   Convert ``1`` through ``4`` to ``'bad'``\n",
    "*   Convert ``5`` through ``9`` to ``'worse'``"
   ]
  },
  {
   "cell_type": "markdown",
   "metadata": {},
   "source": [
    "**INSTRUCTIONS**\n",
    "\n",
    "*   Count the **unique** values in the ``bad_conditions`` column and sort the ``index``. \n",
    "*   Create a ``dictionary`` called ``mapping`` that maps the ``bad_conditions`` integers to strings as specified above.\n",
    "*   Convert the ``bad_conditions`` integers to strings using the ``mapping`` and store the results in a new column called ``rating``.\n",
    "*   Count the **unique** values in ``rating`` to verify that the integers were properly converted to strings."
   ]
  },
  {
   "cell_type": "code",
   "execution_count": 9,
   "metadata": {},
   "outputs": [
    {
     "data": {
      "text/plain": [
       "{0.0: 'good',\n",
       " 1.0: 'bad',\n",
       " 2.0: 'bad',\n",
       " 3.0: 'bad',\n",
       " 4.0: 'bad',\n",
       " 9.0: 'worse',\n",
       " 6.0: 'worse',\n",
       " 8.0: 'worse',\n",
       " 5.0: 'worse',\n",
       " 7.0: 'worse'}"
      ]
     },
     "execution_count": 9,
     "metadata": {},
     "output_type": "execute_result"
    }
   ],
   "source": [
    "mapping = {}\n",
    "for i in bad_conditions.unique():\n",
    "    if i == 0:\n",
    "        mapping[i] = 'good'\n",
    "    elif 1 <= i <= 4:\n",
    "        mapping[i] = 'bad'\n",
    "    else:\n",
    "        mapping[i] = 'worse'\n",
    "mapping"
   ]
  },
  {
   "cell_type": "code",
   "execution_count": 10,
   "metadata": {},
   "outputs": [
    {
     "data": {
      "text/plain": [
       "array(['good', 'bad', 'worse'], dtype=object)"
      ]
     },
     "execution_count": 10,
     "metadata": {},
     "output_type": "execute_result"
    }
   ],
   "source": [
    "df[\"rating\"] = bad_conditions.map(mapping)\n",
    "df[\"rating\"].unique()"
   ]
  },
  {
   "cell_type": "markdown",
   "metadata": {},
   "source": [
    "***"
   ]
  },
  {
   "cell_type": "markdown",
   "metadata": {},
   "source": [
    "## Changing the data type to category"
   ]
  },
  {
   "cell_type": "markdown",
   "metadata": {},
   "source": [
    "Since the ``rating`` column only has a few possible values, you'll change its data type to ``category`` in order to store the data more efficiently. You'll also specify a logical order for the categories, which will be useful for future exercises."
   ]
  },
  {
   "cell_type": "markdown",
   "metadata": {},
   "source": [
    "**INSTRUCTIONS**\n",
    "\n",
    "*   Create a ``list`` object called ``cats`` that lists the weather ratings in a logical order: ``'good'``, ``'bad'``, ``'worse'``.\n",
    "*   Change the data type of the ``rating`` column from ``object`` to ``category``. Make sure to use the ``cats list`` to define the category ordering.\n",
    "*   Examine the ``head`` of the ``rating`` column to confirm that the categories are logically ordered."
   ]
  },
  {
   "cell_type": "code",
   "execution_count": 11,
   "metadata": {},
   "outputs": [
    {
     "data": {
      "text/plain": [
       "STATION\n",
       "USC00379423    good\n",
       "USC00379423    good\n",
       "USC00379423    good\n",
       "USC00379423    good\n",
       "USC00379423    good\n",
       "               ... \n",
       "USW00014765     bad\n",
       "USW00014765    good\n",
       "USW00014765     bad\n",
       "USW00014765     bad\n",
       "USW00014765     bad\n",
       "Name: rating, Length: 8022, dtype: category\n",
       "Categories (3, object): [good < bad < worse]"
      ]
     },
     "execution_count": 11,
     "metadata": {},
     "output_type": "execute_result"
    }
   ],
   "source": [
    "cats = ['good','bad','worse']\n",
    "cat_dtype = pd.api.types.CategoricalDtype(categories = cats, ordered = True)\n",
    "\n",
    "df[\"rating\"] = df[\"rating\"].astype(cat_dtype)\n",
    "\n",
    "df[\"rating\"]"
   ]
  },
  {
   "cell_type": "markdown",
   "metadata": {},
   "source": [
    "***"
   ]
  },
  {
   "cell_type": "code",
   "execution_count": 12,
   "metadata": {},
   "outputs": [
    {
     "name": "stderr",
     "output_type": "stream",
     "text": [
      "C:\\Users\\ozlem\\anaconda3\\lib\\site-packages\\IPython\\core\\interactiveshell.py:3063: DtypeWarning: Columns (7) have mixed types.Specify dtype option on import or set low_memory=False.\n",
      "  interactivity=interactivity, compiler=compiler, result=result)\n"
     ]
    },
    {
     "data": {
      "text/html": [
       "<div>\n",
       "<style scoped>\n",
       "    .dataframe tbody tr th:only-of-type {\n",
       "        vertical-align: middle;\n",
       "    }\n",
       "\n",
       "    .dataframe tbody tr th {\n",
       "        vertical-align: top;\n",
       "    }\n",
       "\n",
       "    .dataframe thead th {\n",
       "        text-align: right;\n",
       "    }\n",
       "</style>\n",
       "<table border=\"1\" class=\"dataframe\">\n",
       "  <thead>\n",
       "    <tr style=\"text-align: right;\">\n",
       "      <th></th>\n",
       "      <th>id</th>\n",
       "      <th>stop_date</th>\n",
       "      <th>stop_time</th>\n",
       "      <th>location_raw</th>\n",
       "      <th>county_fips</th>\n",
       "      <th>fine_grained_location</th>\n",
       "      <th>police_department</th>\n",
       "      <th>driver_gender</th>\n",
       "      <th>driver_age_raw</th>\n",
       "      <th>driver_age</th>\n",
       "      <th>...</th>\n",
       "      <th>stop_outcome</th>\n",
       "      <th>is_arrested</th>\n",
       "      <th>stop_duration</th>\n",
       "      <th>out_of_state</th>\n",
       "      <th>drugs_related_stop</th>\n",
       "      <th>district</th>\n",
       "      <th>combined</th>\n",
       "      <th>frisk</th>\n",
       "      <th>hours</th>\n",
       "      <th>stop_minute</th>\n",
       "    </tr>\n",
       "    <tr>\n",
       "      <th>stop_datetime</th>\n",
       "      <th></th>\n",
       "      <th></th>\n",
       "      <th></th>\n",
       "      <th></th>\n",
       "      <th></th>\n",
       "      <th></th>\n",
       "      <th></th>\n",
       "      <th></th>\n",
       "      <th></th>\n",
       "      <th></th>\n",
       "      <th></th>\n",
       "      <th></th>\n",
       "      <th></th>\n",
       "      <th></th>\n",
       "      <th></th>\n",
       "      <th></th>\n",
       "      <th></th>\n",
       "      <th></th>\n",
       "      <th></th>\n",
       "      <th></th>\n",
       "      <th></th>\n",
       "    </tr>\n",
       "  </thead>\n",
       "  <tbody>\n",
       "    <tr>\n",
       "      <th>2005-01-02 01:55:00</th>\n",
       "      <td>RI-2005-00001</td>\n",
       "      <td>2005-01-02</td>\n",
       "      <td>01:55</td>\n",
       "      <td>Zone K1</td>\n",
       "      <td>NaN</td>\n",
       "      <td>NaN</td>\n",
       "      <td>600</td>\n",
       "      <td>M</td>\n",
       "      <td>1985.0</td>\n",
       "      <td>20.0</td>\n",
       "      <td>...</td>\n",
       "      <td>Citation</td>\n",
       "      <td>False</td>\n",
       "      <td>0-15 Min</td>\n",
       "      <td>False</td>\n",
       "      <td>False</td>\n",
       "      <td>Zone K1</td>\n",
       "      <td>2005-01-0201:55</td>\n",
       "      <td>False</td>\n",
       "      <td>1</td>\n",
       "      <td>8</td>\n",
       "    </tr>\n",
       "    <tr>\n",
       "      <th>2005-01-02 20:30:00</th>\n",
       "      <td>RI-2005-00002</td>\n",
       "      <td>2005-01-02</td>\n",
       "      <td>20:30</td>\n",
       "      <td>Zone X4</td>\n",
       "      <td>NaN</td>\n",
       "      <td>NaN</td>\n",
       "      <td>500</td>\n",
       "      <td>M</td>\n",
       "      <td>1987.0</td>\n",
       "      <td>18.0</td>\n",
       "      <td>...</td>\n",
       "      <td>Citation</td>\n",
       "      <td>False</td>\n",
       "      <td>16-30 Min</td>\n",
       "      <td>False</td>\n",
       "      <td>False</td>\n",
       "      <td>Zone X4</td>\n",
       "      <td>2005-01-0220:30</td>\n",
       "      <td>False</td>\n",
       "      <td>20</td>\n",
       "      <td>23</td>\n",
       "    </tr>\n",
       "    <tr>\n",
       "      <th>2005-01-04 12:55:00</th>\n",
       "      <td>RI-2005-00004</td>\n",
       "      <td>2005-01-04</td>\n",
       "      <td>12:55</td>\n",
       "      <td>Zone X4</td>\n",
       "      <td>NaN</td>\n",
       "      <td>NaN</td>\n",
       "      <td>500</td>\n",
       "      <td>M</td>\n",
       "      <td>1986.0</td>\n",
       "      <td>19.0</td>\n",
       "      <td>...</td>\n",
       "      <td>Citation</td>\n",
       "      <td>False</td>\n",
       "      <td>0-15 Min</td>\n",
       "      <td>False</td>\n",
       "      <td>False</td>\n",
       "      <td>Zone X4</td>\n",
       "      <td>2005-01-0412:55</td>\n",
       "      <td>False</td>\n",
       "      <td>12</td>\n",
       "      <td>8</td>\n",
       "    </tr>\n",
       "    <tr>\n",
       "      <th>2005-01-06 01:30:00</th>\n",
       "      <td>RI-2005-00005</td>\n",
       "      <td>2005-01-06</td>\n",
       "      <td>01:30</td>\n",
       "      <td>Zone X4</td>\n",
       "      <td>NaN</td>\n",
       "      <td>NaN</td>\n",
       "      <td>500</td>\n",
       "      <td>M</td>\n",
       "      <td>1978.0</td>\n",
       "      <td>27.0</td>\n",
       "      <td>...</td>\n",
       "      <td>Citation</td>\n",
       "      <td>False</td>\n",
       "      <td>0-15 Min</td>\n",
       "      <td>False</td>\n",
       "      <td>False</td>\n",
       "      <td>Zone X4</td>\n",
       "      <td>2005-01-0601:30</td>\n",
       "      <td>False</td>\n",
       "      <td>1</td>\n",
       "      <td>8</td>\n",
       "    </tr>\n",
       "    <tr>\n",
       "      <th>2005-01-12 08:05:00</th>\n",
       "      <td>RI-2005-00006</td>\n",
       "      <td>2005-01-12</td>\n",
       "      <td>08:05</td>\n",
       "      <td>Zone X1</td>\n",
       "      <td>NaN</td>\n",
       "      <td>NaN</td>\n",
       "      <td>0</td>\n",
       "      <td>M</td>\n",
       "      <td>1973.0</td>\n",
       "      <td>32.0</td>\n",
       "      <td>...</td>\n",
       "      <td>Citation</td>\n",
       "      <td>False</td>\n",
       "      <td>30+ Min</td>\n",
       "      <td>True</td>\n",
       "      <td>False</td>\n",
       "      <td>Zone X1</td>\n",
       "      <td>2005-01-1208:05</td>\n",
       "      <td>False</td>\n",
       "      <td>8</td>\n",
       "      <td>45</td>\n",
       "    </tr>\n",
       "  </tbody>\n",
       "</table>\n",
       "<p>5 rows × 28 columns</p>\n",
       "</div>"
      ],
      "text/plain": [
       "                                id   stop_date stop_time location_raw  \\\n",
       "stop_datetime                                                           \n",
       "2005-01-02 01:55:00  RI-2005-00001  2005-01-02     01:55      Zone K1   \n",
       "2005-01-02 20:30:00  RI-2005-00002  2005-01-02     20:30      Zone X4   \n",
       "2005-01-04 12:55:00  RI-2005-00004  2005-01-04     12:55      Zone X4   \n",
       "2005-01-06 01:30:00  RI-2005-00005  2005-01-06     01:30      Zone X4   \n",
       "2005-01-12 08:05:00  RI-2005-00006  2005-01-12     08:05      Zone X1   \n",
       "\n",
       "                     county_fips  fine_grained_location police_department  \\\n",
       "stop_datetime                                                               \n",
       "2005-01-02 01:55:00          NaN                    NaN               600   \n",
       "2005-01-02 20:30:00          NaN                    NaN               500   \n",
       "2005-01-04 12:55:00          NaN                    NaN               500   \n",
       "2005-01-06 01:30:00          NaN                    NaN               500   \n",
       "2005-01-12 08:05:00          NaN                    NaN                 0   \n",
       "\n",
       "                    driver_gender  driver_age_raw  driver_age  ...  \\\n",
       "stop_datetime                                                  ...   \n",
       "2005-01-02 01:55:00             M          1985.0        20.0  ...   \n",
       "2005-01-02 20:30:00             M          1987.0        18.0  ...   \n",
       "2005-01-04 12:55:00             M          1986.0        19.0  ...   \n",
       "2005-01-06 01:30:00             M          1978.0        27.0  ...   \n",
       "2005-01-12 08:05:00             M          1973.0        32.0  ...   \n",
       "\n",
       "                    stop_outcome is_arrested stop_duration out_of_state  \\\n",
       "stop_datetime                                                             \n",
       "2005-01-02 01:55:00     Citation       False      0-15 Min        False   \n",
       "2005-01-02 20:30:00     Citation       False     16-30 Min        False   \n",
       "2005-01-04 12:55:00     Citation       False      0-15 Min        False   \n",
       "2005-01-06 01:30:00     Citation       False      0-15 Min        False   \n",
       "2005-01-12 08:05:00     Citation       False       30+ Min         True   \n",
       "\n",
       "                     drugs_related_stop district         combined  frisk  \\\n",
       "stop_datetime                                                              \n",
       "2005-01-02 01:55:00               False  Zone K1  2005-01-0201:55  False   \n",
       "2005-01-02 20:30:00               False  Zone X4  2005-01-0220:30  False   \n",
       "2005-01-04 12:55:00               False  Zone X4  2005-01-0412:55  False   \n",
       "2005-01-06 01:30:00               False  Zone X4  2005-01-0601:30  False   \n",
       "2005-01-12 08:05:00               False  Zone X1  2005-01-1208:05  False   \n",
       "\n",
       "                    hours  stop_minute  \n",
       "stop_datetime                           \n",
       "2005-01-02 01:55:00     1            8  \n",
       "2005-01-02 20:30:00    20           23  \n",
       "2005-01-04 12:55:00    12            8  \n",
       "2005-01-06 01:30:00     1            8  \n",
       "2005-01-12 08:05:00     8           45  \n",
       "\n",
       "[5 rows x 28 columns]"
      ]
     },
     "execution_count": 12,
     "metadata": {},
     "output_type": "execute_result"
    }
   ],
   "source": [
    "ri = pd.read_csv(\"df-03.csv\",index_col = 0)\n",
    "ri.head()"
   ]
  },
  {
   "cell_type": "markdown",
   "metadata": {},
   "source": [
    "## Preparing the DataFrames"
   ]
  },
  {
   "cell_type": "markdown",
   "metadata": {},
   "source": [
    "In this exercise, you'll prepare the **traffic stop** and **weather rating** ``DataFrames`` so that they're ready to be merged:\n",
    "\n",
    "With the ``ri`` ``DataFrame``, you'll move the ``stop_datetime`` index to a ``column`` since the index will be lost during the merge.\n",
    "\n",
    "With the ``weather`` ``DataFrame``, you'll select the ``DATE`` and ``rating`` columns and put them in a new ``DataFrame``."
   ]
  },
  {
   "cell_type": "markdown",
   "metadata": {},
   "source": [
    "**INSTRUCTIONS**\n",
    "\n",
    "* Reset the ``index`` of the ``ri`` ``DataFrame``.\n",
    "\n",
    "* Examine the ``head`` of ``ri`` to verify that ``stop_datetime`` is now a ``DataFrame`` column, \n",
    "and the ``index`` is now the default ``integer`` index.\n",
    "\n",
    "* Create a new ``DataFrame`` named ``weather_rating`` that contains only the ``DATE`` and ``rating`` columns from the ``weather`` ``DataFrame``.\n",
    "\n",
    "* Examine the ``head`` of ``weather_rating`` to verify that it contains the proper columns."
   ]
  },
  {
   "cell_type": "markdown",
   "metadata": {},
   "source": [
    "> Before starting your work from this part of this chapter **repeat the steps which you did in the first chapter for preparing the ``ri`` data.** Continue to this chapter based on where you were in the end of the first chapter."
   ]
  },
  {
   "cell_type": "code",
   "execution_count": 13,
   "metadata": {},
   "outputs": [
    {
     "data": {
      "text/html": [
       "<div>\n",
       "<style scoped>\n",
       "    .dataframe tbody tr th:only-of-type {\n",
       "        vertical-align: middle;\n",
       "    }\n",
       "\n",
       "    .dataframe tbody tr th {\n",
       "        vertical-align: top;\n",
       "    }\n",
       "\n",
       "    .dataframe thead th {\n",
       "        text-align: right;\n",
       "    }\n",
       "</style>\n",
       "<table border=\"1\" class=\"dataframe\">\n",
       "  <thead>\n",
       "    <tr style=\"text-align: right;\">\n",
       "      <th></th>\n",
       "      <th>DATE</th>\n",
       "      <th>rating</th>\n",
       "    </tr>\n",
       "    <tr>\n",
       "      <th>STATION</th>\n",
       "      <th></th>\n",
       "      <th></th>\n",
       "    </tr>\n",
       "  </thead>\n",
       "  <tbody>\n",
       "    <tr>\n",
       "      <th>USC00379423</th>\n",
       "      <td>2005-01-01</td>\n",
       "      <td>good</td>\n",
       "    </tr>\n",
       "    <tr>\n",
       "      <th>USC00379423</th>\n",
       "      <td>2005-01-02</td>\n",
       "      <td>good</td>\n",
       "    </tr>\n",
       "    <tr>\n",
       "      <th>USC00379423</th>\n",
       "      <td>2005-01-03</td>\n",
       "      <td>good</td>\n",
       "    </tr>\n",
       "    <tr>\n",
       "      <th>USC00379423</th>\n",
       "      <td>2005-01-04</td>\n",
       "      <td>good</td>\n",
       "    </tr>\n",
       "    <tr>\n",
       "      <th>USC00379423</th>\n",
       "      <td>2005-01-05</td>\n",
       "      <td>good</td>\n",
       "    </tr>\n",
       "  </tbody>\n",
       "</table>\n",
       "</div>"
      ],
      "text/plain": [
       "                   DATE rating\n",
       "STATION                       \n",
       "USC00379423  2005-01-01   good\n",
       "USC00379423  2005-01-02   good\n",
       "USC00379423  2005-01-03   good\n",
       "USC00379423  2005-01-04   good\n",
       "USC00379423  2005-01-05   good"
      ]
     },
     "execution_count": 13,
     "metadata": {},
     "output_type": "execute_result"
    }
   ],
   "source": [
    "ri_w_nindex = ri.reset_index().copy()\n",
    "ri_w_nindex.head()\n",
    "\n",
    "weather_rating = df[[\"DATE\",\"rating\"]]\n",
    "weather_rating.head()\n",
    "\n"
   ]
  },
  {
   "cell_type": "code",
   "execution_count": 14,
   "metadata": {},
   "outputs": [
    {
     "data": {
      "text/plain": [
       "(8022, 2)"
      ]
     },
     "execution_count": 14,
     "metadata": {},
     "output_type": "execute_result"
    }
   ],
   "source": [
    "weather_rating.shape"
   ]
  },
  {
   "cell_type": "markdown",
   "metadata": {},
   "source": [
    "***"
   ]
  },
  {
   "cell_type": "markdown",
   "metadata": {},
   "source": [
    "## Merging the DataFrames"
   ]
  },
  {
   "cell_type": "markdown",
   "metadata": {},
   "source": [
    "Merging the DataFrames\n",
    "In this exercise, you'll ``merge`` the ``ri`` and ``weather_rating`` ``DataFrames`` into a new ``DataFrame``, ``ri_weather``.\n",
    "\n",
    "The ``DataFrames`` will be joined using the ``stop_date`` column from ``ri`` and the ``DATE`` column from ``weather_rating``. Thankfully the date formatting matches exactly, which is not always the case!\n",
    "\n",
    "Once the merge is complete, you'll set ``stop_datetime`` as the index, which is the column you saved in the previous exercise."
   ]
  },
  {
   "cell_type": "markdown",
   "metadata": {},
   "source": [
    "Examine the shape of the ``ri`` ``DataFrame``.\n",
    "``Merge`` the ``ri`` and ``weather_rating`` ``DataFrames`` using a ``left join``.\n",
    "Examine the ``shape`` of ``ri_weather`` to confirm that it has two more columns but the same number of rows as ``ri``.\n",
    "Replace the ``index`` of ``ri_weather`` with the ``stop_datetime`` column."
   ]
  },
  {
   "cell_type": "code",
   "execution_count": 15,
   "metadata": {},
   "outputs": [],
   "source": [
    "ri_weather = ri_w_nindex.merge(weather_rating, how = 'left',left_on='stop_date', right_on='DATE')"
   ]
  },
  {
   "cell_type": "code",
   "execution_count": 16,
   "metadata": {},
   "outputs": [
    {
     "data": {
      "text/plain": [
       "0"
      ]
     },
     "execution_count": 16,
     "metadata": {},
     "output_type": "execute_result"
    }
   ],
   "source": [
    "ri_weather[\"DATE\"].isnull().sum()"
   ]
  },
  {
   "cell_type": "code",
   "execution_count": 17,
   "metadata": {},
   "outputs": [
    {
     "data": {
      "text/plain": [
       "(480576, 28)"
      ]
     },
     "execution_count": 17,
     "metadata": {},
     "output_type": "execute_result"
    }
   ],
   "source": [
    "ri.shape"
   ]
  },
  {
   "cell_type": "markdown",
   "metadata": {},
   "source": [
    "***"
   ]
  },
  {
   "cell_type": "markdown",
   "metadata": {},
   "source": [
    "## Comparing arrest rates by weather rating"
   ]
  },
  {
   "cell_type": "markdown",
   "metadata": {},
   "source": [
    "Do police officers arrest drivers more often when the weather is bad? Find out below!\n",
    "\n",
    "- **First**, you'll calculate the **overall arrest rate**.\n",
    "\n",
    "- **Then**, you'll calculate the **arrest rate** for each of the **weather ratings** you previously assigned.\n",
    "\n",
    "- **Finally**, you'll add **violation type** as a second factor in the analysis, to see if that accounts for any differences in the arrest rate.\n",
    "\n",
    "Since you previously defined a logical order for the weather categories, ``good < bad < worse``, they will be sorted that way in the results."
   ]
  },
  {
   "cell_type": "code",
   "execution_count": 18,
   "metadata": {},
   "outputs": [
    {
     "data": {
      "text/plain": [
       "0.03456584605640376"
      ]
     },
     "execution_count": 18,
     "metadata": {},
     "output_type": "execute_result"
    }
   ],
   "source": [
    "ri_weather[\"is_arrested\"].mean()"
   ]
  },
  {
   "cell_type": "code",
   "execution_count": 53,
   "metadata": {},
   "outputs": [],
   "source": [
    "arrest_rate = ri_weather.groupby([\"rating\",\"violation\"])[\"is_arrested\"].mean()"
   ]
  },
  {
   "cell_type": "markdown",
   "metadata": {},
   "source": [
    "***"
   ]
  },
  {
   "cell_type": "markdown",
   "metadata": {},
   "source": [
    "## Selecting From a mult-indexed Series"
   ]
  },
  {
   "cell_type": "markdown",
   "metadata": {},
   "source": [
    "The output of a single ``.groupby()`` operation on multiple columns is a ``Series`` with a ``MultiIndex``. Working with this type of object is similar to working with a ``DataFrame``:\n",
    "\n",
    "The ``outer`` index level is like the ``DataFrame`` rows.\n",
    "The ``inner`` index level is like the ``DataFrame`` columns.\n",
    "In this exercise, you'll practice accessing data from a multi-indexed ``Series`` using the ``.loc[]`` accessor."
   ]
  },
  {
   "cell_type": "markdown",
   "metadata": {},
   "source": [
    "**INSTRUCTIONS**\n",
    "\n",
    "- Save the output of the ``.groupby()`` operation from the last exercise as a new object, ``arrest_rate``.\n",
    "- Print the ``arrest_rate`` ``Series`` and examine it.\n",
    "- Print the arrest rate for ``moving violations`` in bad weather.\n",
    "- Print the arrest rates for ``speeding violations`` in all three weather conditions."
   ]
  },
  {
   "cell_type": "code",
   "execution_count": 54,
   "metadata": {},
   "outputs": [
    {
     "data": {
      "text/plain": [
       "rating  violation          \n",
       "good    Equipment              0.059084\n",
       "        Moving violation       0.056799\n",
       "        Other                  0.080682\n",
       "        Registration/plates    0.083238\n",
       "        Seat belt              0.026339\n",
       "        Speeding               0.013494\n",
       "bad     Equipment              0.059583\n",
       "        Moving violation       0.058060\n",
       "        Other                  0.084950\n",
       "        Registration/plates    0.092634\n",
       "        Seat belt              0.028795\n",
       "        Speeding               0.013348\n",
       "worse   Equipment              0.094373\n",
       "        Moving violation       0.062249\n",
       "        Other                  0.058704\n",
       "        Registration/plates    0.098673\n",
       "        Seat belt              0.000000\n",
       "        Speeding               0.016600\n",
       "Name: is_arrested, dtype: float64"
      ]
     },
     "execution_count": 54,
     "metadata": {},
     "output_type": "execute_result"
    }
   ],
   "source": [
    "arrest_rate"
   ]
  },
  {
   "cell_type": "code",
   "execution_count": 58,
   "metadata": {},
   "outputs": [
    {
     "data": {
      "text/plain": [
       "0.05806035409648054"
      ]
     },
     "execution_count": 58,
     "metadata": {},
     "output_type": "execute_result"
    }
   ],
   "source": [
    "arrest_rate.loc['bad','Moving violation']"
   ]
  },
  {
   "cell_type": "code",
   "execution_count": 59,
   "metadata": {},
   "outputs": [
    {
     "data": {
      "text/plain": [
       "rating\n",
       "good     0.013494\n",
       "bad      0.013348\n",
       "worse    0.016600\n",
       "Name: is_arrested, dtype: float64"
      ]
     },
     "execution_count": 59,
     "metadata": {},
     "output_type": "execute_result"
    }
   ],
   "source": [
    "arrest_rate.loc[:,'Speeding']"
   ]
  },
  {
   "cell_type": "markdown",
   "metadata": {},
   "source": [
    "***"
   ]
  },
  {
   "cell_type": "markdown",
   "metadata": {},
   "source": [
    "## Reshaping the arrest rate data"
   ]
  },
  {
   "cell_type": "markdown",
   "metadata": {},
   "source": [
    "In this exercise, you'll start by **reshaping** the ``arrest_rate`` ``Series`` into a ``DataFrame``. This is a useful step when working with any multi-indexed ``Series``, since it enables you to access the full range of ``DataFrame`` methods.\n",
    "\n",
    "Then, you'll create the exact same ``DataFrame`` using a ``pivot table``. This is a great example of how pandas often gives you more than one way to reach the same result!"
   ]
  },
  {
   "cell_type": "markdown",
   "metadata": {},
   "source": [
    "**INSTRUCTIONS**\n",
    "\n",
    "- ``unstack`` the ``arrest_rate`` ``Series`` to ``reshape`` it into a ``DataFrame``.\n",
    "- Create the exact same ``DataFrame`` using a ``pivot table``! Each of the three ``.pivot_table()`` parameters should be specified as one of the ``ri_weather`` columns."
   ]
  },
  {
   "cell_type": "code",
   "execution_count": 60,
   "metadata": {},
   "outputs": [
    {
     "data": {
      "text/html": [
       "<div>\n",
       "<style scoped>\n",
       "    .dataframe tbody tr th:only-of-type {\n",
       "        vertical-align: middle;\n",
       "    }\n",
       "\n",
       "    .dataframe tbody tr th {\n",
       "        vertical-align: top;\n",
       "    }\n",
       "\n",
       "    .dataframe thead th {\n",
       "        text-align: right;\n",
       "    }\n",
       "</style>\n",
       "<table border=\"1\" class=\"dataframe\">\n",
       "  <thead>\n",
       "    <tr style=\"text-align: right;\">\n",
       "      <th>violation</th>\n",
       "      <th>Equipment</th>\n",
       "      <th>Moving violation</th>\n",
       "      <th>Other</th>\n",
       "      <th>Registration/plates</th>\n",
       "      <th>Seat belt</th>\n",
       "      <th>Speeding</th>\n",
       "    </tr>\n",
       "    <tr>\n",
       "      <th>rating</th>\n",
       "      <th></th>\n",
       "      <th></th>\n",
       "      <th></th>\n",
       "      <th></th>\n",
       "      <th></th>\n",
       "      <th></th>\n",
       "    </tr>\n",
       "  </thead>\n",
       "  <tbody>\n",
       "    <tr>\n",
       "      <th>good</th>\n",
       "      <td>0.059084</td>\n",
       "      <td>0.056799</td>\n",
       "      <td>0.080682</td>\n",
       "      <td>0.083238</td>\n",
       "      <td>0.026339</td>\n",
       "      <td>0.013494</td>\n",
       "    </tr>\n",
       "    <tr>\n",
       "      <th>bad</th>\n",
       "      <td>0.059583</td>\n",
       "      <td>0.058060</td>\n",
       "      <td>0.084950</td>\n",
       "      <td>0.092634</td>\n",
       "      <td>0.028795</td>\n",
       "      <td>0.013348</td>\n",
       "    </tr>\n",
       "    <tr>\n",
       "      <th>worse</th>\n",
       "      <td>0.094373</td>\n",
       "      <td>0.062249</td>\n",
       "      <td>0.058704</td>\n",
       "      <td>0.098673</td>\n",
       "      <td>0.000000</td>\n",
       "      <td>0.016600</td>\n",
       "    </tr>\n",
       "  </tbody>\n",
       "</table>\n",
       "</div>"
      ],
      "text/plain": [
       "violation  Equipment  Moving violation     Other  Registration/plates  \\\n",
       "rating                                                                  \n",
       "good        0.059084          0.056799  0.080682             0.083238   \n",
       "bad         0.059583          0.058060  0.084950             0.092634   \n",
       "worse       0.094373          0.062249  0.058704             0.098673   \n",
       "\n",
       "violation  Seat belt  Speeding  \n",
       "rating                          \n",
       "good        0.026339  0.013494  \n",
       "bad         0.028795  0.013348  \n",
       "worse       0.000000  0.016600  "
      ]
     },
     "execution_count": 60,
     "metadata": {},
     "output_type": "execute_result"
    }
   ],
   "source": [
    "arrest_rate.unstack()"
   ]
  },
  {
   "cell_type": "code",
   "execution_count": 63,
   "metadata": {},
   "outputs": [],
   "source": [
    "table = ri_weather.pivot_table(values = 'is_arrested', columns= 'violation', index = 'rating')                            "
   ]
  },
  {
   "cell_type": "code",
   "execution_count": 64,
   "metadata": {},
   "outputs": [
    {
     "data": {
      "text/html": [
       "<div>\n",
       "<style scoped>\n",
       "    .dataframe tbody tr th:only-of-type {\n",
       "        vertical-align: middle;\n",
       "    }\n",
       "\n",
       "    .dataframe tbody tr th {\n",
       "        vertical-align: top;\n",
       "    }\n",
       "\n",
       "    .dataframe thead th {\n",
       "        text-align: right;\n",
       "    }\n",
       "</style>\n",
       "<table border=\"1\" class=\"dataframe\">\n",
       "  <thead>\n",
       "    <tr style=\"text-align: right;\">\n",
       "      <th>violation</th>\n",
       "      <th>Equipment</th>\n",
       "      <th>Moving violation</th>\n",
       "      <th>Other</th>\n",
       "      <th>Registration/plates</th>\n",
       "      <th>Seat belt</th>\n",
       "      <th>Speeding</th>\n",
       "    </tr>\n",
       "    <tr>\n",
       "      <th>rating</th>\n",
       "      <th></th>\n",
       "      <th></th>\n",
       "      <th></th>\n",
       "      <th></th>\n",
       "      <th></th>\n",
       "      <th></th>\n",
       "    </tr>\n",
       "  </thead>\n",
       "  <tbody>\n",
       "    <tr>\n",
       "      <th>good</th>\n",
       "      <td>0.059084</td>\n",
       "      <td>0.056799</td>\n",
       "      <td>0.080682</td>\n",
       "      <td>0.083238</td>\n",
       "      <td>0.026339</td>\n",
       "      <td>0.013494</td>\n",
       "    </tr>\n",
       "    <tr>\n",
       "      <th>bad</th>\n",
       "      <td>0.059583</td>\n",
       "      <td>0.058060</td>\n",
       "      <td>0.084950</td>\n",
       "      <td>0.092634</td>\n",
       "      <td>0.028795</td>\n",
       "      <td>0.013348</td>\n",
       "    </tr>\n",
       "    <tr>\n",
       "      <th>worse</th>\n",
       "      <td>0.094373</td>\n",
       "      <td>0.062249</td>\n",
       "      <td>0.058704</td>\n",
       "      <td>0.098673</td>\n",
       "      <td>0.000000</td>\n",
       "      <td>0.016600</td>\n",
       "    </tr>\n",
       "  </tbody>\n",
       "</table>\n",
       "</div>"
      ],
      "text/plain": [
       "violation  Equipment  Moving violation     Other  Registration/plates  \\\n",
       "rating                                                                  \n",
       "good        0.059084          0.056799  0.080682             0.083238   \n",
       "bad         0.059583          0.058060  0.084950             0.092634   \n",
       "worse       0.094373          0.062249  0.058704             0.098673   \n",
       "\n",
       "violation  Seat belt  Speeding  \n",
       "rating                          \n",
       "good        0.026339  0.013494  \n",
       "bad         0.028795  0.013348  \n",
       "worse       0.000000  0.016600  "
      ]
     },
     "execution_count": 64,
     "metadata": {},
     "output_type": "execute_result"
    }
   ],
   "source": [
    "table"
   ]
  },
  {
   "cell_type": "code",
   "execution_count": null,
   "metadata": {},
   "outputs": [],
   "source": []
  }
 ],
 "metadata": {
  "kernelspec": {
   "display_name": "Python 3",
   "language": "python",
   "name": "python3"
  },
  "language_info": {
   "codemirror_mode": {
    "name": "ipython",
    "version": 3
   },
   "file_extension": ".py",
   "mimetype": "text/x-python",
   "name": "python",
   "nbconvert_exporter": "python",
   "pygments_lexer": "ipython3",
   "version": "3.7.6"
  }
 },
 "nbformat": 4,
 "nbformat_minor": 4
}
